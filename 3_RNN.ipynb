{
 "cells": [
  {
   "cell_type": "markdown",
   "metadata": {},
   "source": [
    "# CSE6250BDH Deep Learning Labs\n",
    "## 3. Recurrent Neural Networks\n",
    "\n",
    "In this chapter, we will learn how to implement a recurrent neural network by using PyTorch."
   ]
  },
  {
   "cell_type": "markdown",
   "metadata": {},
   "source": [
    "#### 0. Prepare Data"
   ]
  },
  {
   "cell_type": "markdown",
   "metadata": {},
   "source": [
    "The same dateset we used in the previous chapter of CNN will be used."
   ]
  },
  {
   "cell_type": "code",
   "execution_count": 1,
   "metadata": {},
   "outputs": [
    {
     "name": "stdout",
     "output_type": "stream",
     "text": [
      "[[   6   11   15 ...  -11  -17  -18]\n",
      " [ -41  -45  -45 ...  -66  -71  -57]\n",
      " [ -26  -10   28 ...   52   72   77]\n",
      " ...\n",
      " [ -51  -51  -19 ... -108  -97 -100]\n",
      " [-144 -158 -183 ...  126   82   68]\n",
      " [  23   -1  -34 ...  -17  -27  -27]]\n",
      "(7360, 178)\n"
     ]
    }
   ],
   "source": [
    "import pandas as pd\n",
    "from sklearn.model_selection import train_test_split\n",
    "\n",
    "df = pd.read_csv('data.csv')\n",
    "labels = df['y'].values\n",
    "labels = labels - 1\n",
    "data = df.loc[:, 'X1':'X178'].values\n",
    "\n",
    "X_train, X_test, y_train, y_test = train_test_split(data, labels, test_size=0.2, random_state=6250)\n",
    "X_train, X_valid, y_train, y_valid = train_test_split(X_train, y_train, test_size=0.2, random_state=6250)\n",
    "\n",
    "print(X_train)\n",
    "print(X_train.shape)"
   ]
  },
  {
   "cell_type": "markdown",
   "metadata": {},
   "source": [
    "#### 1. Loading Datasets\n",
    "Shape of input tensor is (batch, seq_len, input_size), different from the one used for CNN in the previous chapter. In fact, the default shape of input for recurrent layer modules in PyTorch such as RNN, GRU, and LSTM is (seq_len, batch, input_size). You can choose your preferred shape, but **do not forget to set proper boolean value for `batch_first` argument for recurrent layer modules**.\n",
    "\n",
    "As our current dataset has a shape of (num_subject, seq_len) and each time step has 1D signal, we need to add a dummy axis to make it as a 3D tensor. In the following codes, you can see `unsqueeze(dim)` function on Tensor which adds a new axis (dimension)."
   ]
  },
  {
   "cell_type": "code",
   "execution_count": 2,
   "metadata": {},
   "outputs": [],
   "source": [
    "import torch\n",
    "from torch.utils.data import DataLoader, TensorDataset\n",
    "\n",
    "# lets fix the random seeds for reproducibility.\n",
    "torch.manual_seed(6250)\n",
    "if torch.cuda.is_available():\n",
    "    torch.cuda.manual_seed(6250)\n",
    "\n",
    "trainset = TensorDataset(torch.from_numpy(X_train.astype('float32')).unsqueeze(2), torch.from_numpy(y_train.astype('long')))\n",
    "trainloader = torch.utils.data.DataLoader(trainset, batch_size=10, shuffle=True, num_workers=2)\n",
    "\n",
    "validset = TensorDataset(torch.from_numpy(X_valid.astype('float32')).unsqueeze(2), torch.from_numpy(y_valid.astype('long')))\n",
    "validloader = torch.utils.data.DataLoader(validset, batch_size=10, shuffle=False, num_workers=2)\n",
    "\n",
    "testset = TensorDataset(torch.from_numpy(X_test.astype('float32')).unsqueeze(2), torch.from_numpy(y_test.astype('long')))\n",
    "testloader = torch.utils.data.DataLoader(testset, batch_size=10, shuffle=False, num_workers=2)\n",
    "\n",
    "classes = ('Seizure', 'TumorArea', 'HealthyArea', 'EyesClosed', 'EyesOpen')"
   ]
  },
  {
   "cell_type": "markdown",
   "metadata": {},
   "source": [
    "#### 2. Define RNN class"
   ]
  },
  {
   "cell_type": "code",
   "execution_count": 3,
   "metadata": {},
   "outputs": [],
   "source": [
    "from torch.autograd import Variable\n",
    "import torch.nn as nn\n",
    "import torch.nn.functional as F\n",
    "\n",
    "class RecurNet(nn.Module):\n",
    "    def __init__(self):\n",
    "        super(RecurNet, self).__init__()\n",
    "        self.rnn = nn.GRU(input_size=1, hidden_size=32, num_layers=2, batch_first=True, dropout=0.5)\n",
    "        self.fc = nn.Linear(in_features=32, out_features=5)\n",
    "\n",
    "    def forward(self, x):\n",
    "        x, _ = self.rnn(x)\n",
    "        x = self.fc(x[:, -1, :])\n",
    "        return x\n",
    "\n",
    "\n",
    "model = RecurNet()"
   ]
  },
  {
   "cell_type": "markdown",
   "metadata": {},
   "source": [
    "Again, let's define a class for our model. In this tutorial we use one of gated units, Gated Recurrent Unit (GRU), as our recurrent layer. `nn.GRU` is a implementatoin of (multi-layered) GRU. 'multi-layered' means you can easily define several layers of GRU by putting the number of layers as input argument for `num_layers`. On the other hand, `nn.GRUCell` can be used when you want to construct more complex architecture between each recurrent layer. We use 2-layers of GRU for this tutorial.\n",
    "\n",
    "**Note again that, we need to carefully set the value for `batch_first` for all types of RNN module.**\n",
    "\n",
    "At line 9, we retrieve the hidden unit outputs from the last recurrent layer for the last time step. To be specific, `nn.GRU` returns an tuple of `output, h_n` where `output` is the output value of hidden units from the last layer for **ALL** time steps and `h_n` is the same value for the last time step only. Therefore, `x, _ = self.rnn(x)` at line 8, we get a Tensor `x` in a shape of (batch, seq_len, hidden_size) since we set `batch_first=True`. We then extract the values for the last time step by `x[:, -1, :]`. If we set `batch_first=False`, indexing should be modified also.\n",
    "\n",
    "We add a fully-connected layer on the top of the recurrent layers. "
   ]
  },
  {
   "cell_type": "markdown",
   "metadata": {},
   "source": [
    "#### 3. Define a Loss function and optimizer"
   ]
  },
  {
   "cell_type": "code",
   "execution_count": 4,
   "metadata": {},
   "outputs": [],
   "source": [
    "import torch.optim as optim\n",
    "\n",
    "criterion = nn.CrossEntropyLoss()\n",
    "optimizer = optim.Adam(model.parameters())"
   ]
  },
  {
   "cell_type": "markdown",
   "metadata": {},
   "source": [
    "We use the same loss function and the same optimizer from the previous chapter."
   ]
  },
  {
   "cell_type": "markdown",
   "metadata": {},
   "source": [
    "#### 4. Train the network\n",
    "Also, we can use the same procedure for training the network."
   ]
  },
  {
   "cell_type": "code",
   "execution_count": 5,
   "metadata": {},
   "outputs": [
    {
     "name": "stdout",
     "output_type": "stream",
     "text": [
      "Finished Training\n"
     ]
    }
   ],
   "source": [
    "cuda = torch.cuda.is_available()\n",
    "if cuda:\n",
    "    model = model.cuda()\n",
    "\n",
    "train_losses = []\n",
    "valid_losses = []\n",
    "\n",
    "for epoch in range(15):  # loop over the dataset multiple times\n",
    "\n",
    "    # set the model as train mode\n",
    "    model.train()\n",
    "    train_loss = 0.0\n",
    "    train_counter = 0\n",
    "    for i, data in enumerate(trainloader, 0):\n",
    "        # get the inputs\n",
    "        inputs, targets = data\n",
    "\n",
    "        if cuda:\n",
    "            inputs, targets = inputs.cuda(), targets.cuda()\n",
    "\n",
    "        # zero the parameter gradients\n",
    "        optimizer.zero_grad()\n",
    "\n",
    "        # forward + backward + optimize\n",
    "        outputs = model(inputs)\n",
    "        loss = criterion(outputs, targets)\n",
    "        loss.backward()\n",
    "        optimizer.step()\n",
    "        \n",
    "        train_loss += (loss.item() * inputs.size(0))\n",
    "        train_counter += inputs.size(0)\n",
    "\n",
    "    train_losses.append(train_loss/train_counter)\n",
    "    \n",
    "    # switch to evaluation mode\n",
    "    model.eval()\n",
    "    valid_loss = 0.0\n",
    "    valid_counter = 0\n",
    "    with torch.no_grad():\n",
    "        for i, data in enumerate(validloader, 0):\n",
    "            # get the inputs\n",
    "            inputs, targets = data\n",
    "\n",
    "            if cuda:\n",
    "                inputs, targets = inputs.cuda(), targets.cuda()\n",
    "\n",
    "            outputs = model(inputs)\n",
    "            loss = criterion(outputs, targets)\n",
    "\n",
    "            valid_loss += (loss.item() * inputs.size(0))\n",
    "            valid_counter += inputs.size(0)\n",
    "    valid_losses.append(valid_loss/valid_counter)\n",
    "    \n",
    "print('Finished Training')"
   ]
  },
  {
   "cell_type": "markdown",
   "metadata": {},
   "source": [
    "We should check the learning curve always!"
   ]
  },
  {
   "cell_type": "code",
   "execution_count": 6,
   "metadata": {},
   "outputs": [
    {
     "data": {
      "text/plain": [
       "<matplotlib.legend.Legend at 0x7f426007b908>"
      ]
     },
     "execution_count": 6,
     "metadata": {},
     "output_type": "execute_result"
    },
    {
     "data": {
      "image/png": "[encoded data removed]",
      "text/plain": [
       "<Figure size 432x288 with 1 Axes>"
      ]
     },
     "metadata": {
      "needs_background": "light"
     },
     "output_type": "display_data"
    }
   ],
   "source": [
    "%matplotlib inline\n",
    "import numpy as np\n",
    "import matplotlib.pyplot as plt\n",
    "\n",
    "plt.figure()\n",
    "plt.plot(np.arange(len(train_losses)), train_losses, label='Train')\n",
    "plt.plot(np.arange(len(valid_losses)), valid_losses, label='Validation')\n",
    "plt.ylabel('Loss')\n",
    "plt.xlabel('epoch')\n",
    "plt.legend(loc=\"best\")"
   ]
  },
  {
   "cell_type": "markdown",
   "metadata": {},
   "source": [
    "#### 5. Test the network on the test data"
   ]
  },
  {
   "cell_type": "code",
   "execution_count": 7,
   "metadata": {},
   "outputs": [
    {
     "name": "stdout",
     "output_type": "stream",
     "text": [
      "Accuracy of Seizure : 95% out of 438 cases\n",
      "Accuracy of TumorArea : 67% out of 471 cases\n",
      "Accuracy of HealthyArea : 42% out of 462 cases\n",
      "Accuracy of EyesClosed : 77% out of 493 cases\n",
      "Accuracy of EyesOpen : 62% out of 436 cases\n"
     ]
    }
   ],
   "source": [
    "class_correct = list(0. for i in range(len(classes)))\n",
    "class_total = list(0. for i in range(len(classes)))\n",
    "with torch.no_grad():\n",
    "    for data in testloader:\n",
    "        # get the inputs\n",
    "        inputs, targets = data\n",
    "\n",
    "        if cuda:\n",
    "            inputs, targets = inputs.cuda(), targets.cuda()\n",
    "\n",
    "        outputs = model(inputs)\n",
    "        _, predicted = torch.max(outputs.data, 1)        \n",
    "        c = (predicted == targets).squeeze()\n",
    "        for i, label in enumerate(targets):\n",
    "            class_correct[label] += c[i].item()\n",
    "            class_total[label] += 1\n",
    "\n",
    "for i in range(len(classes)):\n",
    "    print('Accuracy of %s : %2d%% out of %d cases' % (classes[i], 100 * class_correct[i] / class_total[i], class_total[i]))"
   ]
  },
  {
   "cell_type": "markdown",
   "metadata": {},
   "source": [
    "Congratulations! We have completed the example of recurrent neural network!\n",
    "\n",
    "We will try another way of using RNN in the next chapter with a slightly more complicated example."
   ]
  },
  {
   "cell_type": "markdown",
   "metadata": {},
   "source": [
    "### Exercise 1. Try to use different type of RNN cell (e.g. LSTM)"
   ]
  },
  {
   "cell_type": "markdown",
   "metadata": {},
   "source": [
    "### Exercise 2. How do you compare the result with the one by CNN in the previous chapter? What about computation time?"
   ]
  }
 ],
 "metadata": {
  "kernelspec": {
   "display_name": "Python 3",
   "language": "python",
   "name": "python3"
  },
  "language_info": {
   "codemirror_mode": {
    "name": "ipython",
    "version": 3
   },
   "file_extension": ".py",
   "mimetype": "text/x-python",
   "name": "python",
   "nbconvert_exporter": "python",
   "pygments_lexer": "ipython3",
   "version": "3.7.3"
  }
 },
 "nbformat": 4,
 "nbformat_minor": 2
}
